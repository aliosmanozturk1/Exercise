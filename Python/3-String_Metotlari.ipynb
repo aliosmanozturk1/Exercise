{
 "cells": [
  {
   "cell_type": "markdown",
   "id": "ff5ff00c",
   "metadata": {},
   "source": [
    "# String Metotları"
   ]
  },
  {
   "cell_type": "markdown",
   "id": "7ddc6373",
   "metadata": {},
   "source": [
    "## eval"
   ]
  },
  {
   "cell_type": "markdown",
   "id": "4a1f5a73",
   "metadata": {},
   "source": [
    "Program içesindeki metinsel verinin bir kod olarak algılanmasını çalıştırılmasını sağlar."
   ]
  },
  {
   "cell_type": "code",
   "execution_count": null,
   "id": "a667804a",
   "metadata": {},
   "outputs": [],
   "source": [
    "stringKod = eval(\"3 + 2 + 3\")\n",
    "print(stringKod)"
   ]
  },
  {
   "cell_type": "markdown",
   "id": "d3535383",
   "metadata": {},
   "source": [
    "\n"
   ]
  },
  {
   "cell_type": "markdown",
   "id": "7460658d",
   "metadata": {},
   "source": [
    "## exec"
   ]
  },
  {
   "cell_type": "markdown",
   "id": "dec35d61",
   "metadata": {},
   "source": [
    "Kullanıcıdan alınan metinsel verinin doğrudan bir kod olarak algılanmasını ve çalıştırılmasını sağlar."
   ]
  },
  {
   "cell_type": "code",
   "execution_count": null,
   "id": "17a1835a",
   "metadata": {},
   "outputs": [],
   "source": [
    "x = 1\n",
    "z = 0\n",
    "komutGir = input(\"Lütfen bir komut giriniz: \") # z = x + 1 ifadesini gir.\n",
    "z = 0\n",
    "\n",
    "exec(komutGir)\n",
    "print(z)"
   ]
  },
  {
   "cell_type": "markdown",
   "id": "601d0d96",
   "metadata": {},
   "source": [
    "\n"
   ]
  },
  {
   "cell_type": "markdown",
   "id": "3f224c58",
   "metadata": {},
   "source": [
    "## len"
   ]
  },
  {
   "cell_type": "markdown",
   "id": "8ac880aa",
   "metadata": {},
   "source": [
    "Bir string dizinin uzunluğunu almak için kullanılır."
   ]
  },
  {
   "cell_type": "code",
   "execution_count": null,
   "id": "8b592c2e",
   "metadata": {},
   "outputs": [],
   "source": [
    "metinVerisi = \"Ali Osman Öztürk\"\n",
    "uzunluk = len(metinVerisi)\n",
    "print(uzunluk)"
   ]
  },
  {
   "cell_type": "markdown",
   "id": "309145c1",
   "metadata": {},
   "source": [
    "\n"
   ]
  },
  {
   "cell_type": "markdown",
   "id": "6cd6c91c",
   "metadata": {},
   "source": [
    "## strip"
   ]
  },
  {
   "cell_type": "markdown",
   "id": "fdc950ae",
   "metadata": {},
   "source": [
    "Bir string verisinin başındaki ve sonundaki boşluk karakterlerini siler."
   ]
  },
  {
   "cell_type": "code",
   "execution_count": null,
   "id": "355a4bbb",
   "metadata": {},
   "outputs": [],
   "source": [
    "metin = \" Ali Osman Öztürk \"\n",
    "stripMetin = metin.strip()\n",
    "print(stripMetin)"
   ]
  },
  {
   "cell_type": "markdown",
   "id": "b7fa86bf",
   "metadata": {},
   "source": [
    "\n"
   ]
  },
  {
   "cell_type": "markdown",
   "id": "439476b7",
   "metadata": {},
   "source": [
    "## lower"
   ]
  },
  {
   "cell_type": "markdown",
   "id": "572ba1d5",
   "metadata": {},
   "source": [
    "Tüm karakterleri küçük harflere dönüştürür."
   ]
  },
  {
   "cell_type": "code",
   "execution_count": 6,
   "id": "9c96ac57",
   "metadata": {},
   "outputs": [
    {
     "name": "stdout",
     "output_type": "stream",
     "text": [
      "ali osman öztürk\n"
     ]
    }
   ],
   "source": [
    "text = \"Ali Osman Öztürk\"\n",
    "lowerText = text.lower()\n",
    "print(lowerText)"
   ]
  },
  {
   "cell_type": "markdown",
   "id": "12f3eb5d",
   "metadata": {},
   "source": [
    "\n"
   ]
  },
  {
   "cell_type": "markdown",
   "id": "8e8be07c",
   "metadata": {},
   "source": [
    "## upper"
   ]
  },
  {
   "cell_type": "markdown",
   "id": "ffe35a2e",
   "metadata": {},
   "source": [
    "Tüm karakterleri büyük harflere dönüştürür."
   ]
  },
  {
   "cell_type": "code",
   "execution_count": null,
   "id": "fd2f8d8f",
   "metadata": {},
   "outputs": [],
   "source": [
    "text = \"Ali Osman Öztürk\"\n",
    "upperText = text.upper()\n",
    "print(upperText)"
   ]
  },
  {
   "cell_type": "markdown",
   "id": "e531c553",
   "metadata": {},
   "source": [
    "\n"
   ]
  },
  {
   "cell_type": "markdown",
   "id": "c2dca9aa",
   "metadata": {},
   "source": [
    "## replace"
   ]
  },
  {
   "cell_type": "markdown",
   "id": "c20a9563",
   "metadata": {},
   "source": [
    "Bir string değeri bir başka string değeri ile yer değiştirir."
   ]
  },
  {
   "cell_type": "code",
   "execution_count": 2,
   "id": "181f5806",
   "metadata": {},
   "outputs": [
    {
     "name": "stdout",
     "output_type": "stream",
     "text": [
      "Ali Ferhat Öztürk\n"
     ]
    }
   ],
   "source": [
    "text1 = \"Ali Osman Öztürk\"\n",
    "text2 = text1.replace(\"Osman\", \"Ferhat\")\n",
    "print(text2)"
   ]
  },
  {
   "cell_type": "markdown",
   "id": "2c7a395b",
   "metadata": {},
   "source": [
    "\n"
   ]
  },
  {
   "cell_type": "markdown",
   "id": "375eea27",
   "metadata": {},
   "source": [
    "## split"
   ]
  },
  {
   "cell_type": "markdown",
   "id": "45ba1d81",
   "metadata": {},
   "source": [
    "Bir string değeri istenen ayraç metni kullanarak alt parçalara böler."
   ]
  },
  {
   "cell_type": "code",
   "execution_count": 3,
   "id": "40da4e53",
   "metadata": {},
   "outputs": [
    {
     "name": "stdout",
     "output_type": "stream",
     "text": [
      "['Ali', 'Osman', 'Öztürk']\n"
     ]
    }
   ],
   "source": [
    "text1 = \"Ali Osman Öztürk\"\n",
    "dizi = text1.split(\" \")\n",
    "print(dizi)"
   ]
  },
  {
   "cell_type": "markdown",
   "id": "a4aaf8cb",
   "metadata": {},
   "source": [
    "\n"
   ]
  },
  {
   "cell_type": "markdown",
   "id": "efbd6ac6",
   "metadata": {},
   "source": [
    "## capitalize"
   ]
  },
  {
   "cell_type": "markdown",
   "id": "dc9bcd6b",
   "metadata": {},
   "source": [
    "Yalnızca ilk karakteri büyük harfe çevirir."
   ]
  },
  {
   "cell_type": "code",
   "execution_count": 4,
   "id": "d4d514aa",
   "metadata": {},
   "outputs": [
    {
     "name": "stdout",
     "output_type": "stream",
     "text": [
      "Ali osman öztürk\n"
     ]
    }
   ],
   "source": [
    "text1 = \"ali osman öztürk\"\n",
    "text2 = text1.capitalize()\n",
    "print(text2)"
   ]
  },
  {
   "cell_type": "markdown",
   "id": "1aad429e",
   "metadata": {},
   "source": [
    "\n"
   ]
  },
  {
   "cell_type": "markdown",
   "id": "c112f939",
   "metadata": {},
   "source": [
    "## casefold"
   ]
  },
  {
   "cell_type": "markdown",
   "id": "efa0adac",
   "metadata": {},
   "source": [
    "String değeri küçük harfe çevirir. lower metodu ile aynı görünse dahi bazı dillerdeki özel karakterlerin çevrilmesinde farklılık gösterir."
   ]
  },
  {
   "cell_type": "code",
   "execution_count": 5,
   "id": "da9ff52c",
   "metadata": {},
   "outputs": [
    {
     "name": "stdout",
     "output_type": "stream",
     "text": [
      "ali osman öztürk\n"
     ]
    }
   ],
   "source": [
    "text1 = \"Ali OSMAN öztürk\"\n",
    "text2 = text1.casefold()\n",
    "print(text2)"
   ]
  },
  {
   "cell_type": "markdown",
   "id": "eb059d29",
   "metadata": {},
   "source": [
    "\n"
   ]
  },
  {
   "cell_type": "markdown",
   "id": "7ae3dd9c",
   "metadata": {},
   "source": [
    "## center"
   ]
  },
  {
   "cell_type": "markdown",
   "id": "537e8983",
   "metadata": {},
   "source": [
    "String değeri belirtilen karakter uzunluğunda ortalar."
   ]
  },
  {
   "cell_type": "code",
   "execution_count": 7,
   "id": "c0a8e655",
   "metadata": {},
   "outputs": [
    {
     "name": "stdout",
     "output_type": "stream",
     "text": [
      "                 Ali Osman Öztürk                 \n"
     ]
    }
   ],
   "source": [
    "text1 = \"Ali Osman Öztürk\"\n",
    "text2 = text1.center(50)\n",
    "print(text2)"
   ]
  },
  {
   "cell_type": "markdown",
   "id": "461bb9ca",
   "metadata": {},
   "source": [
    "\n"
   ]
  },
  {
   "cell_type": "markdown",
   "id": "2a6ac17e",
   "metadata": {},
   "source": [
    "## count"
   ]
  },
  {
   "cell_type": "markdown",
   "id": "6e42dbc3",
   "metadata": {},
   "source": [
    "Bir değerin kaç defa tekrarlandığını verir."
   ]
  },
  {
   "cell_type": "code",
   "execution_count": 10,
   "id": "4ace7485",
   "metadata": {},
   "outputs": [
    {
     "name": "stdout",
     "output_type": "stream",
     "text": [
      "2\n"
     ]
    }
   ],
   "source": [
    "text1 = \"Ali Ali Osman Öztürk\"\n",
    "text2 = text1.count(\"Ali\")\n",
    "print(text2)"
   ]
  },
  {
   "cell_type": "markdown",
   "id": "5055d938",
   "metadata": {},
   "source": [
    "\n"
   ]
  },
  {
   "cell_type": "markdown",
   "id": "e0e50cd9",
   "metadata": {},
   "source": [
    "## encode"
   ]
  },
  {
   "cell_type": "markdown",
   "id": "a619c55a",
   "metadata": {},
   "source": [
    "String değeri UTF-8 ile şifreler."
   ]
  },
  {
   "cell_type": "code",
   "execution_count": 12,
   "id": "15fc5730",
   "metadata": {},
   "outputs": [
    {
     "name": "stdout",
     "output_type": "stream",
     "text": [
      "b'Ali Osman Ozturk'\n"
     ]
    }
   ],
   "source": [
    "text1 = \"Ali Osman Ozturk\"\n",
    "text2 = text1.encode()\n",
    "print(text2)"
   ]
  },
  {
   "cell_type": "markdown",
   "id": "ceb0b0b1",
   "metadata": {},
   "source": [
    "\n"
   ]
  },
  {
   "cell_type": "markdown",
   "id": "18691bfa",
   "metadata": {},
   "source": [
    "## endswith"
   ]
  },
  {
   "cell_type": "markdown",
   "id": "d0d6f464",
   "metadata": {},
   "source": [
    "String değer belirli bir değerle bitiyorsa true değer döndürür."
   ]
  },
  {
   "cell_type": "code",
   "execution_count": 14,
   "id": "2258ae2e",
   "metadata": {},
   "outputs": [
    {
     "name": "stdout",
     "output_type": "stream",
     "text": [
      "True\n"
     ]
    }
   ],
   "source": [
    "text1 = \"Ali Osman Öztürk\"\n",
    "text2 = text1.endswith(\"k\")\n",
    "print(text2)"
   ]
  },
  {
   "cell_type": "markdown",
   "id": "02233d71",
   "metadata": {},
   "source": [
    "\n"
   ]
  },
  {
   "cell_type": "markdown",
   "id": "c2eff58e",
   "metadata": {},
   "source": [
    "## expandtabs"
   ]
  },
  {
   "cell_type": "markdown",
   "id": "5a572726",
   "metadata": {},
   "source": [
    "String değeri belirtilen tab uzunluğunda yeniden düzenler."
   ]
  },
  {
   "cell_type": "code",
   "execution_count": 15,
   "id": "78cb59be",
   "metadata": {},
   "outputs": [
    {
     "name": "stdout",
     "output_type": "stream",
     "text": [
      "Ali Osman Öztürk\n"
     ]
    }
   ],
   "source": [
    "text1 = \"Ali Osman Öztürk\"\n",
    "text2 = text1.expandtabs(5)\n",
    "print(text2)"
   ]
  },
  {
   "cell_type": "markdown",
   "id": "0f34140f",
   "metadata": {},
   "source": [
    "\n"
   ]
  },
  {
   "cell_type": "markdown",
   "id": "74be64e3",
   "metadata": {},
   "source": [
    "## find"
   ]
  },
  {
   "cell_type": "markdown",
   "id": "39aaa265",
   "metadata": {},
   "source": [
    "İstenilen değeri soldan başlayarak arar ve bulduğu indisi (indis 0'dan başlar) döndürür. Aranan değer bulunamazsa -1 değeri döner. Bunun dışında index metodu ile aynı işi yapar."
   ]
  },
  {
   "cell_type": "code",
   "execution_count": 16,
   "id": "ab1df0d5",
   "metadata": {},
   "outputs": [
    {
     "name": "stdout",
     "output_type": "stream",
     "text": [
      "5\n"
     ]
    }
   ],
   "source": [
    "text1 = \"Ali Osman Öztürk\"\n",
    "text2 = text1.find(\"s\")\n",
    "print(text2)"
   ]
  },
  {
   "cell_type": "markdown",
   "id": "c4d7a91b",
   "metadata": {},
   "source": [
    "\n"
   ]
  },
  {
   "cell_type": "markdown",
   "id": "eddd2754",
   "metadata": {},
   "source": [
    "## index"
   ]
  },
  {
   "cell_type": "markdown",
   "id": "40115f0f",
   "metadata": {},
   "source": [
    "İstenilen değeri soldan başlayarak arar ve bulduğu indisi (indis 0'dan başlar) döndürür. Eğer aradığı karakteri bulamazsa ValueError hatası verir. Bunun dışında find metodu ile aynı işi yapar."
   ]
  },
  {
   "cell_type": "code",
   "execution_count": 17,
   "id": "f58ca289",
   "metadata": {},
   "outputs": [
    {
     "name": "stdout",
     "output_type": "stream",
     "text": [
      "5\n"
     ]
    }
   ],
   "source": [
    "text1 = \"Ali Osman Öztürk\"\n",
    "text2 = text1.index(\"s\")\n",
    "print(text2)"
   ]
  },
  {
   "cell_type": "markdown",
   "id": "e3bd6154",
   "metadata": {},
   "source": [
    "\n"
   ]
  },
  {
   "cell_type": "markdown",
   "id": "ce87c936",
   "metadata": {},
   "source": [
    "## join"
   ]
  },
  {
   "cell_type": "markdown",
   "id": "e6a9a7f3",
   "metadata": {},
   "source": [
    "Metni string elemanların sonuna ekler."
   ]
  },
  {
   "cell_type": "code",
   "execution_count": 25,
   "id": "6ece4d82",
   "metadata": {},
   "outputs": [
    {
     "name": "stdout",
     "output_type": "stream",
     "text": [
      "Ali-Osman-Öztürk\n"
     ]
    }
   ],
   "source": [
    "text1 = ('Ali','Osman','Öztürk')\n",
    "text2 = '-'\n",
    "text3 = text2.join(text1)\n",
    "print(text3)"
   ]
  },
  {
   "cell_type": "markdown",
   "id": "3c810d41",
   "metadata": {},
   "source": [
    "\n"
   ]
  },
  {
   "cell_type": "markdown",
   "id": "1860ba47",
   "metadata": {},
   "source": [
    "## ljust"
   ]
  },
  {
   "cell_type": "markdown",
   "id": "edebd108",
   "metadata": {},
   "source": [
    "String değerin belirlenen karakter içerisinde sola hizalı halini döndürür."
   ]
  },
  {
   "cell_type": "code",
   "execution_count": 26,
   "id": "668a4943",
   "metadata": {},
   "outputs": [
    {
     "name": "stdout",
     "output_type": "stream",
     "text": [
      "Ali Osman Öztürk                                                                                    \n"
     ]
    }
   ],
   "source": [
    "text1 = \"Ali Osman Öztürk\"\n",
    "text2 = text1.ljust(100)\n",
    "print(text2)"
   ]
  },
  {
   "cell_type": "markdown",
   "id": "e7068d2f",
   "metadata": {},
   "source": [
    "\n"
   ]
  },
  {
   "cell_type": "markdown",
   "id": "3c1b4aff",
   "metadata": {},
   "source": [
    "## rjust"
   ]
  },
  {
   "cell_type": "markdown",
   "id": "bb7495b3",
   "metadata": {},
   "source": [
    "String değerin belirlenen karakter içerisinde sağa hizalı halini döndürür."
   ]
  },
  {
   "cell_type": "code",
   "execution_count": 27,
   "id": "a265b1b1",
   "metadata": {},
   "outputs": [
    {
     "name": "stdout",
     "output_type": "stream",
     "text": [
      "                                                                                    Ali Osman Öztürk\n"
     ]
    }
   ],
   "source": [
    "text1 = \"Ali Osman Öztürk\"\n",
    "text2 = text1.rjust(100)\n",
    "print(text2)"
   ]
  },
  {
   "cell_type": "markdown",
   "id": "24f0d65f",
   "metadata": {},
   "source": [
    "\n"
   ]
  },
  {
   "cell_type": "markdown",
   "id": "b786c141",
   "metadata": {},
   "source": [
    "## isalnum"
   ]
  },
  {
   "cell_type": "markdown",
   "id": "99adc6f4",
   "metadata": {},
   "source": [
    "Tüm karakterler alfanumerik değerse (A-Z, a-z, 0-9) True döndürür."
   ]
  },
  {
   "cell_type": "code",
   "execution_count": 33,
   "id": "ca2afcd3",
   "metadata": {},
   "outputs": [
    {
     "name": "stdout",
     "output_type": "stream",
     "text": [
      "True\n"
     ]
    }
   ],
   "source": [
    "text1 = \"OsmanV5\"\n",
    "text2 = text1.isalnum()\n",
    "print(text2)"
   ]
  },
  {
   "cell_type": "markdown",
   "id": "48e982c6",
   "metadata": {},
   "source": [
    "\n"
   ]
  },
  {
   "cell_type": "markdown",
   "id": "ff678956",
   "metadata": {},
   "source": [
    "## isalpha"
   ]
  },
  {
   "cell_type": "markdown",
   "id": "67491d7b",
   "metadata": {},
   "source": [
    "String değerdeki tüm karakterler alfabetik değerse (A-Z, a-z) True döndürür."
   ]
  },
  {
   "cell_type": "code",
   "execution_count": 36,
   "id": "6a5733b0",
   "metadata": {},
   "outputs": [
    {
     "name": "stdout",
     "output_type": "stream",
     "text": [
      "True\n"
     ]
    }
   ],
   "source": [
    "text1 = \"Osman\"\n",
    "text2 = text1.isalpha()\n",
    "print(text2)"
   ]
  },
  {
   "cell_type": "markdown",
   "id": "1dd889e4",
   "metadata": {},
   "source": [
    "\n"
   ]
  },
  {
   "cell_type": "markdown",
   "id": "184d7838",
   "metadata": {},
   "source": [
    "## isdecimal"
   ]
  },
  {
   "cell_type": "markdown",
   "id": "0770708f",
   "metadata": {},
   "source": [
    "(Unicode) tüm karakterler ondalıklı değerse True döndürür."
   ]
  },
  {
   "cell_type": "code",
   "execution_count": 40,
   "id": "15301032",
   "metadata": {},
   "outputs": [
    {
     "name": "stdout",
     "output_type": "stream",
     "text": [
      "True\n"
     ]
    }
   ],
   "source": [
    "text1 = \"175\"\n",
    "text2 = text1.isdecimal()\n",
    "print(text2)"
   ]
  },
  {
   "cell_type": "markdown",
   "id": "ccbfa86e",
   "metadata": {},
   "source": [
    "\n"
   ]
  },
  {
   "cell_type": "markdown",
   "id": "a57827c0",
   "metadata": {},
   "source": [
    "## isnumeric "
   ]
  },
  {
   "cell_type": "markdown",
   "id": "340a5fb3",
   "metadata": {},
   "source": [
    "String değerdeki tüm karakterler numerik değerse True döndürür."
   ]
  },
  {
   "cell_type": "code",
   "execution_count": 45,
   "id": "3c7b2cab",
   "metadata": {},
   "outputs": [
    {
     "name": "stdout",
     "output_type": "stream",
     "text": [
      "True\n"
     ]
    }
   ],
   "source": [
    "text1 = \"175\"\n",
    "text2 = text1.isnumeric()\n",
    "print(text2)"
   ]
  },
  {
   "cell_type": "markdown",
   "id": "30c5b785",
   "metadata": {},
   "source": [
    "\n"
   ]
  },
  {
   "cell_type": "markdown",
   "id": "472b30cc",
   "metadata": {},
   "source": [
    "## isdigit"
   ]
  },
  {
   "cell_type": "markdown",
   "id": "83fcf40f",
   "metadata": {},
   "source": [
    "String değerdeki tüm karakterler rakamsa True döndürür."
   ]
  },
  {
   "cell_type": "code",
   "execution_count": 43,
   "id": "0b407f85",
   "metadata": {},
   "outputs": [
    {
     "name": "stdout",
     "output_type": "stream",
     "text": [
      "False\n"
     ]
    }
   ],
   "source": [
    "text1 = \"175a\"\n",
    "text2 = text1.isdigit()\n",
    "print(text2)"
   ]
  },
  {
   "cell_type": "markdown",
   "id": "f16fa83b",
   "metadata": {},
   "source": [
    "\n"
   ]
  },
  {
   "cell_type": "markdown",
   "id": "e81576c3",
   "metadata": {},
   "source": [
    "## isidentifier"
   ]
  },
  {
   "cell_type": "markdown",
   "id": "9c5f7b82",
   "metadata": {},
   "source": [
    "String geçerli bir tanımlayıcı değer ise True döndürür."
   ]
  },
  {
   "cell_type": "code",
   "execution_count": 47,
   "id": "6aa313df",
   "metadata": {},
   "outputs": [
    {
     "name": "stdout",
     "output_type": "stream",
     "text": [
      "True\n"
     ]
    }
   ],
   "source": [
    "text1 = \"a175\"\n",
    "text2 = text1.isidentifier()\n",
    "print(text2)"
   ]
  },
  {
   "cell_type": "markdown",
   "id": "0d9b3785",
   "metadata": {},
   "source": [
    "\n"
   ]
  },
  {
   "cell_type": "markdown",
   "id": "ccefa98e",
   "metadata": {},
   "source": [
    "## islower"
   ]
  },
  {
   "cell_type": "markdown",
   "id": "cb0bb1e3",
   "metadata": {},
   "source": [
    "Tüm karakterler küçük harf ise True döndürür."
   ]
  },
  {
   "cell_type": "code",
   "execution_count": 48,
   "id": "86147d37",
   "metadata": {},
   "outputs": [
    {
     "name": "stdout",
     "output_type": "stream",
     "text": [
      "True\n"
     ]
    }
   ],
   "source": [
    "text1 = \"a175\"\n",
    "text2 = text1.islower()\n",
    "print(text2)"
   ]
  },
  {
   "cell_type": "markdown",
   "id": "78796835",
   "metadata": {},
   "source": [
    "\n"
   ]
  },
  {
   "cell_type": "markdown",
   "id": "933fae24",
   "metadata": {},
   "source": [
    "## isupper"
   ]
  },
  {
   "cell_type": "markdown",
   "id": "f5c5ee04",
   "metadata": {},
   "source": [
    "Tüm karakterler büyük harf ise True döndürür."
   ]
  },
  {
   "cell_type": "code",
   "execution_count": 50,
   "id": "f1e8d35b",
   "metadata": {},
   "outputs": [
    {
     "name": "stdout",
     "output_type": "stream",
     "text": [
      "True\n"
     ]
    }
   ],
   "source": [
    "text1 = \"A175\"\n",
    "text2 = text1.isupper()\n",
    "print(text2)"
   ]
  },
  {
   "cell_type": "markdown",
   "id": "b18869d9",
   "metadata": {},
   "source": [
    "\n"
   ]
  },
  {
   "cell_type": "markdown",
   "id": "31681a79",
   "metadata": {},
   "source": [
    "## isprintable"
   ]
  },
  {
   "cell_type": "markdown",
   "id": "45ad4016",
   "metadata": {},
   "source": [
    "Tüm karakterler yazdırılabilir ise True döndürür."
   ]
  },
  {
   "cell_type": "code",
   "execution_count": 51,
   "id": "6f149334",
   "metadata": {},
   "outputs": [
    {
     "name": "stdout",
     "output_type": "stream",
     "text": [
      "True\n"
     ]
    }
   ],
   "source": [
    "text1 = \"A175\"\n",
    "text2 = text1.isprintable()\n",
    "print(text2)"
   ]
  },
  {
   "cell_type": "markdown",
   "id": "e1eececb",
   "metadata": {},
   "source": [
    "\n"
   ]
  },
  {
   "cell_type": "markdown",
   "id": "c17ca434",
   "metadata": {},
   "source": [
    "## isspace"
   ]
  },
  {
   "cell_type": "markdown",
   "id": "a9fe574a",
   "metadata": {},
   "source": [
    "String değerdeki tüm karakterler boşluksa True döndürür."
   ]
  },
  {
   "cell_type": "code",
   "execution_count": 52,
   "id": "24acd309",
   "metadata": {},
   "outputs": [
    {
     "name": "stdout",
     "output_type": "stream",
     "text": [
      "True\n"
     ]
    }
   ],
   "source": [
    "text1 = \" \"\n",
    "text2 = text1.isspace()\n",
    "print(text2)"
   ]
  },
  {
   "cell_type": "markdown",
   "id": "23bb79b2",
   "metadata": {},
   "source": [
    "\n"
   ]
  },
  {
   "cell_type": "markdown",
   "id": "fdd7eef9",
   "metadata": {},
   "source": [
    "## istitle"
   ]
  },
  {
   "cell_type": "markdown",
   "id": "ebb6e877",
   "metadata": {},
   "source": [
    "String değerdeki her sözcüğün baş harfi"
   ]
  }
 ],
 "metadata": {
  "kernelspec": {
   "display_name": "Python 3 (ipykernel)",
   "language": "python",
   "name": "python3"
  },
  "language_info": {
   "codemirror_mode": {
    "name": "ipython",
    "version": 3
   },
   "file_extension": ".py",
   "mimetype": "text/x-python",
   "name": "python",
   "nbconvert_exporter": "python",
   "pygments_lexer": "ipython3",
   "version": "3.9.7"
  }
 },
 "nbformat": 4,
 "nbformat_minor": 5
}
