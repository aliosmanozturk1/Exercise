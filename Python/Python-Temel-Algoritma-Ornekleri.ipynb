{
 "cells": [
  {
   "cell_type": "markdown",
   "id": "8b4c61ce",
   "metadata": {},
   "source": [
    "# Python Basic Algorithm Examples"
   ]
  },
  {
   "cell_type": "markdown",
   "id": "8bd225a7",
   "metadata": {},
   "source": [
    "## 1 - Getting Input from the User and Printing It"
   ]
  },
  {
   "cell_type": "code",
   "execution_count": null,
   "id": "f31ab37e",
   "metadata": {},
   "outputs": [],
   "source": [
    "name = input(\"Please enter your name: \")\n",
    "surname = input(\"Please enter your surname: \")\n",
    "age = int(input(\"Please enter your age: \"))\n",
    "\n",
    "print(name, surname, age, sep = \", \")"
   ]
  },
  {
   "cell_type": "markdown",
   "id": "83abe952",
   "metadata": {},
   "source": [
    "## 2 - Finding the Sum and Average of Numbers from User's Input"
   ]
  },
  {
   "cell_type": "code",
   "execution_count": null,
   "id": "a624bee3",
   "metadata": {},
   "outputs": [],
   "source": [
    "number1 = float(input(\"Please enter the first number: \"))\n",
    "number2 = float(input(\"Please enter the second number: \"))\n",
    "\n",
    "summation = number1 + number2\n",
    "average = (number1 + number2) / 2\n",
    "\n",
    "print(\"Sum:\", summation, \"Average:\", average)"
   ]
  },
  {
   "cell_type": "markdown",
   "id": "5e4f734f",
   "metadata": {},
   "source": [
    "## 3 - Finding the largest of 3 numbers from user input"
   ]
  },
  {
   "cell_type": "code",
   "execution_count": null,
   "id": "898dd1a7",
   "metadata": {},
   "outputs": [],
   "source": [
    "a = float(input(\"Please enter the first number: \"))\n",
    "b = float(input(\"Please enter the second number: \"))\n",
    "c = float(input(\"Please enter the third number: \"))\n",
    "\n",
    "if a > b and a > c:\n",
    "    print(\"The largest number is: a\")\n",
    "elif b > a and b > c:\n",
    "    print(\"The largest number is: b\")\n",
    "elif c > a and c > b:\n",
    "    print(\"The largest number is: c\")\n",
    "else:\n",
    "    print(\"The numbers you enter may be equal to each other.\")"
   ]
  },
  {
   "cell_type": "code",
   "execution_count": null,
   "id": "aba19dbb",
   "metadata": {},
   "outputs": [],
   "source": [
    "x = int(input(\"Please enter the first number: \"))\n",
    "y = int(input(\"Please enter the second number: \"))\n",
    "z = int(input(\"Please enter the third number: \"))\n",
    "\n",
    "numbers = []\n",
    "\n",
    "numbers.append(x)\n",
    "numbers.append(y)\n",
    "numbers.append(z)\n",
    "\n",
    "numbers.sort()\n",
    "\n",
    "print(\"Largest Number: \",numbers[-1])"
   ]
  },
  {
   "cell_type": "code",
   "execution_count": null,
   "id": "f1b69420",
   "metadata": {},
   "outputs": [],
   "source": [
    "x = int(input(\"Please enter the first number: \"))\n",
    "y = int(input(\"Please enter the second number: \"))\n",
    "z = int(input (\"Please enter the third number: \"))\n",
    "\n",
    "list = [x,y,z]\n",
    "list.sort()\n",
    "print(list)\n",
    "print(list[-1])"
   ]
  },
  {
   "cell_type": "markdown",
   "id": "aeccb313",
   "metadata": {},
   "source": [
    "## 4 - Finding discriminant"
   ]
  },
  {
   "cell_type": "code",
   "execution_count": null,
   "id": "9598933e",
   "metadata": {},
   "outputs": [],
   "source": [
    "import math\n",
    "\n",
    "print(\"ax^2 + bx + c = 0\")\n",
    "a, b, c = map(int, input(\"Please enter 'a','b','c'\").split())\n",
    "print(a,\"x^2 + \",b,\"x + \",c,\" = 0\", sep = \"\")\n",
    "\n",
    "discriminant = (b**2) - (4*a*c)\n",
    "print(\"Discriminant: \", discriminant)\n",
    "\n",
    "if discriminant > 0:\n",
    "    root1 = (-b + math.sqrt(discriminant)) / (2 * a)\n",
    "    root2 = (-b - math.sqrt(discriminant)) / (2 * a)\n",
    "    print('''\n",
    "The quadratic equation \n",
    "has two real and distinct solutions.\n",
    "    ''')\n",
    "    print(\"Root 1: \", root1, \"Root 2: \", root2)\n",
    "    \n",
    "elif discriminant == 0:\n",
    "    rootEqual = -b / (2 * a)\n",
    "    print('''\n",
    "The quadratic equation has only\n",
    "one solution or two real and equal solutions.\n",
    "    ''')\n",
    "    \n",
    "elif discriminant < 0:\n",
    "    print(\"The quadratic equation has no real solutions.\")"
   ]
  },
  {
   "cell_type": "markdown",
   "id": "745cf20c",
   "metadata": {},
   "source": [
    "## 5 - Calculating Midterm and Final Exam Grades"
   ]
  },
  {
   "cell_type": "code",
   "execution_count": null,
   "id": "8377daa2",
   "metadata": {},
   "outputs": [],
   "source": [
    "midterm = int(input(\"Please enter your midterm exam grade: \"))\n",
    "final = int(input(\"Please enter your final exam grade: \"))\n",
    "\n",
    "average = (midterm * 0.40) + (final * 0.60)\n",
    "print(\"Average:\", average)\n",
    "\n",
    "if average >= 50:\n",
    "    print(\"You have successfully passed the class.\")\n",
    "else:\n",
    "    print(\"You did not pass the class.\")"
   ]
  },
  {
   "cell_type": "markdown",
   "id": "7f6abbff",
   "metadata": {},
   "source": [
    "## 6 - Sum of numbers from 1 to 100"
   ]
  },
  {
   "cell_type": "code",
   "execution_count": null,
   "id": "36aff4db",
   "metadata": {
    "scrolled": true
   },
   "outputs": [],
   "source": [
    "summation = 0\n",
    "\n",
    "for i in range(100):\n",
    "    summation += i  # summation = summation + i\n",
    "    \n",
    "print(summation)"
   ]
  },
  {
   "cell_type": "markdown",
   "id": "0391a3fd",
   "metadata": {},
   "source": [
    "## 7 - Sum of odd numbers from 1 to n"
   ]
  },
  {
   "cell_type": "code",
   "execution_count": null,
   "id": "48fc5da3",
   "metadata": {},
   "outputs": [],
   "source": [
    "n = int(input(\"Please enter a number: \"))\n",
    "\n",
    "summation = 0\n",
    "\n",
    "for i in range(n):\n",
    "    if i%2 == 1:\n",
    "        summation += i\n",
    "        \n",
    "print(summation)"
   ]
  },
  {
   "cell_type": "code",
   "execution_count": null,
   "id": "be64f361",
   "metadata": {},
   "outputs": [],
   "source": [
    "n = int(input(\"Please enter a number: \"))\n",
    "\n",
    "summation = 0\n",
    "\n",
    "for i in range(1,n,2):\n",
    "    summation += i\n",
    "    \n",
    "print(summation)"
   ]
  },
  {
   "cell_type": "markdown",
   "id": "d393074e",
   "metadata": {},
   "source": [
    "## 8 - Finding the sum of numbers divisible by 7"
   ]
  },
  {
   "cell_type": "code",
   "execution_count": null,
   "id": "1bb45f2d",
   "metadata": {},
   "outputs": [],
   "source": [
    "summation = 0\n",
    "\n",
    "while True:\n",
    "    \n",
    "    n = int(input(\"Please enter the starting number: \"))\n",
    "    m = int(input(\"Please enter the ending number: \"))\n",
    "    \n",
    "    if n>=m:\n",
    "        print(\"Please enter the numbers in the correct order.\")\n",
    "    else:\n",
    "        break\n",
    "    \n",
    "for i in range(n,m):\n",
    "    if i%7 == 0:\n",
    "         summation += i\n",
    "\n",
    "print(summation)"
   ]
  },
  {
   "cell_type": "markdown",
   "id": "e387c3df",
   "metadata": {},
   "source": [
    "## 9 - Printing the String in reverse"
   ]
  },
  {
   "cell_type": "code",
   "execution_count": null,
   "id": "4fc0f451",
   "metadata": {},
   "outputs": [],
   "source": [
    "name = input(\"Please enter your name: \")\n",
    "reverseName = \"\"\n",
    "\n",
    "lenght = len(name)\n",
    "print(lenght)\n",
    "\n",
    "for i in range(lenght-1,-1,-1):\n",
    "    reverseName += name[i]\n",
    "    \n",
    "print(reverseName)"
   ]
  },
  {
   "cell_type": "code",
   "execution_count": null,
   "id": "ca2c80d8",
   "metadata": {},
   "outputs": [],
   "source": [
    "name = input(\"Please enter your name: \")\n",
    "reverseName = \"\"\n",
    "\n",
    "lenght = len(name)\n",
    "\n",
    "while lenght > 0:\n",
    "    reverseName += name[lenght - 1]\n",
    "    lenght = lenght - 1\n",
    "\n",
    "print(reverseName)"
   ]
  },
  {
   "cell_type": "markdown",
   "id": "55e3800d",
   "metadata": {},
   "source": [
    "## 10 - Finding the number of vowels and consonants"
   ]
  },
  {
   "cell_type": "code",
   "execution_count": null,
   "id": "28015d81",
   "metadata": {},
   "outputs": [],
   "source": [
    "text = input(\"Please enter a text: \")\n",
    "\n",
    "vowel = \"aeıioöuüAEIİOÖUÜ\"\n",
    "number = \"1234567890\"\n",
    "\n",
    "vowelCount = 0\n",
    "consonantCount = 0\n",
    "numberCount = 0\n",
    "\n",
    "for char in text:\n",
    "    if char in vowel:\n",
    "        vowelCount += 1\n",
    "    elif char in number:\n",
    "        numberCount += 1\n",
    "    elif char in \" \":\n",
    "        continue\n",
    "    else:\n",
    "        consonantCount += 1\n",
    "        \n",
    "print(\"Number of vowels: \", vowelCount)\n",
    "print(\"Number of consonant: \", consonantCount)\n",
    "print(\"Numbers: \", numberCount)"
   ]
  },
  {
   "cell_type": "markdown",
   "id": "77d6784e",
   "metadata": {},
   "source": [
    "## 11 - Finding Fibonacci numbers from 0 to 1000"
   ]
  },
  {
   "cell_type": "code",
   "execution_count": null,
   "id": "f5344e28",
   "metadata": {
    "scrolled": true
   },
   "outputs": [],
   "source": [
    "# 1-1-2-3-5-8-13-21\n",
    "\n",
    "number1 = 1\n",
    "number2 = 1\n",
    "fibonacci = 0\n",
    "\n",
    "while fibonacci < 1000:\n",
    "    print(number1, \"+\", number2, \"= \", end=\"\")\n",
    "    fibonacci = number1 + number2\n",
    "    print(fibonacci)\n",
    "    number1 = number2\n",
    "    number2 = fibonacci\n",
    "    "
   ]
  },
  {
   "cell_type": "markdown",
   "id": "8ab6cd2f",
   "metadata": {},
   "source": [
    "## Finding prime numbers"
   ]
  },
  {
   "cell_type": "code",
   "execution_count": null,
   "id": "b0016ff3",
   "metadata": {},
   "outputs": [],
   "source": [
    "dividingCounter = 0\n",
    "\n",
    "number = 13\n",
    "\n",
    "for i in range(2,number):\n",
    "    if (number % i == 0):\n",
    "        dividingCounter += 1\n",
    "\n",
    "if dividingCounter == 0:\n",
    "    print(\"The number is a prime number.\")\n",
    "else:\n",
    "    print(\"The number is not a prime number.\")"
   ]
  },
  {
   "cell_type": "code",
   "execution_count": null,
   "id": "dff7c5d3",
   "metadata": {},
   "outputs": [],
   "source": [
    "dividingCounter = 0\n",
    "\n",
    "numberList = list(range(2,10))\n",
    "\n",
    "for i in numberList:\n",
    "    if ()"
   ]
  },
  {
   "cell_type": "code",
   "execution_count": null,
   "id": "8da212d0",
   "metadata": {},
   "outputs": [],
   "source": [
    "remainderlessDivisionCount = 0\n",
    "\n",
    "for number in range(3,1000):\n",
    "    remainderlessDivisionCount = 0\n",
    "    for divider in range(2,number):\n",
    "        if (number % divider == 0):\n",
    "            remainderlessDivisionCount += 1\n",
    "    if remainderlessDivisionCount == 0:\n",
    "        print(number)"
   ]
  },
  {
   "cell_type": "code",
   "execution_count": null,
   "id": "0402bb77",
   "metadata": {},
   "outputs": [],
   "source": [
    "myList = []\n",
    "\n",
    "for i in range(1,1000):\n",
    "    for prime in range(2,i):\n",
    "        if (i % prime) == 0:\n",
    "            break\n",
    "        elif (i % prime != 0) and (prime == i-1):\n",
    "            myList.append(i)\n",
    "print(myList)"
   ]
  },
  {
   "cell_type": "markdown",
   "id": "dfc9c1d1",
   "metadata": {},
   "source": [
    "## Find odd and even numbers"
   ]
  },
  {
   "cell_type": "code",
   "execution_count": null,
   "id": "ac569b7d",
   "metadata": {},
   "outputs": [],
   "source": [
    "userNumber = int(input(\"Please enter a number: \"))\n",
    "\n",
    "oddCount = 0\n",
    "oddNumbersSum = 0\n",
    "evenCount = 0\n",
    "evenNumbersSum = 0\n",
    "\n",
    "for number in range(1,userNumber):\n",
    "    if (number % 2 == 0):\n",
    "        evenCount += 1\n",
    "        evenNumbersSum += number\n",
    "    elif (number % 2 != 0):\n",
    "        oddCount += 1\n",
    "        oddNumbersSum += number\n",
    "        \n",
    "print(\"Odd numbers summation:\", oddNumbersSum)\n",
    "print(\"Odd numbers count:\", oddCount)\n",
    "print(\"Even numbers summation:\", evenNumbersSum)\n",
    "print(\"Even numbers count:\", evenCount)\n",
    "\n",
    "numberList = list(range(1,userNumber))\n",
    "print(\"Sum of entered numbers:\", sum(numberList))\n",
    "print(\"Average of numbers entered:\", sum(numberList) / len(numberList))"
   ]
  },
  {
   "cell_type": "markdown",
   "id": "6988413a",
   "metadata": {},
   "source": [
    "## Using dynamic array"
   ]
  },
  {
   "cell_type": "code",
   "execution_count": null,
   "id": "6ffe0bdd",
   "metadata": {},
   "outputs": [],
   "source": [
    "piece = int(input(\"How many numbers do you want to enter: \"))\n",
    "\n",
    "numberList = []\n",
    "\n",
    "for i in range(piece):\n",
    "    numberList.append(int(input(\"Please enter the number you want: \")))\n",
    "\n",
    "print(numberList)\n",
    "\n",
    "summation = 0\n",
    "\n",
    "for j in numberList:\n",
    "    summation += j\n",
    "    \n",
    "print(\"Summation:\",summation)\n",
    "print(\"Average:\",summation / piece)"
   ]
  },
  {
   "cell_type": "markdown",
   "id": "a84d310d",
   "metadata": {},
   "source": [
    " ## Standard deviation calculation"
   ]
  },
  {
   "cell_type": "code",
   "execution_count": null,
   "id": "e51d6cba",
   "metadata": {},
   "outputs": [],
   "source": [
    "import random\n",
    "import math\n",
    "\n",
    "lenghtOfList = int(input(\"Please enter the length of the list: \"))\n",
    "myList = []\n",
    "\n",
    "for i in range(lenghtOfList):\n",
    "    myList.append(random.randint(0,100)) # rastgele oluşturuluan 100 sayıyı belirlediğimiz uzunluktaki listeye ekliyoruz.\n",
    "    \n",
    "print(myList)\n",
    "\n",
    "summation = sum(myList)\n",
    "average = summation / lenghtOfList\n",
    "\n",
    "print(\"Summation:\", summation, \"Average:\",average)\n",
    "\n",
    "subtraction = 0\n",
    "subtractionSummation = 0\n",
    "\n",
    "for j in myList:\n",
    "    subtraction = j - average\n",
    "    subtraction = subtraction**2\n",
    "    subtractionSummation += subtraction\n",
    "    \n",
    "standardDeviation = math.sqrt(subtractionSummation / lenghtOfList)\n",
    "print(standardDeviation)\n"
   ]
  },
  {
   "cell_type": "markdown",
   "id": "75d779f9",
   "metadata": {},
   "source": [
    "## Matrix Summation (3 x 3)"
   ]
  },
  {
   "cell_type": "code",
   "execution_count": null,
   "id": "17133a97",
   "metadata": {},
   "outputs": [],
   "source": [
    "import random\n",
    "\n",
    "matrix1 = [[0 for x in range(3)] for y in range(3)]\n",
    "matrix2 = [[0 for x in range(3)] for y in range(3)]\n",
    "matrixSum = [[0 for x in range(3)] for y in range(3)]\n",
    "\n",
    "print(matrix1)\n",
    "print(matrix2)\n",
    "print(matrixSum)\n",
    "\n",
    "\n",
    "print(\"*\" * 33)\n",
    "\n",
    "\n",
    "for i in range(3):\n",
    "    for j in range(3):\n",
    "        matrix1[i][j] = random.randint(0,6)\n",
    "        matrix2[i][j] = random.randint(0,6)\n",
    "        matrixSum[i][j] = matrix1[i][j] + matrix2[i][j]\n",
    "        \n",
    "        \n",
    "print(matrix1)\n",
    "print(matrix2)\n",
    "print(matrixSum)"
   ]
  },
  {
   "cell_type": "markdown",
   "id": "985e3f3b",
   "metadata": {},
   "source": [
    "## Finding the transpose of the matrix"
   ]
  },
  {
   "cell_type": "code",
   "execution_count": null,
   "id": "02b7fde6",
   "metadata": {},
   "outputs": [],
   "source": [
    "import random\n",
    "\n",
    "line = int(input(\"Number of lines: \"))\n",
    "column = int(input(\"Number of columns: \"))\n",
    "\n",
    "matrix = [[0 for x in range(column)] for y in range(line)]\n",
    "matrixTranspose = [[0 for x in range(line)] for y in range(column)]\n",
    "\n",
    "for i in range(line):\n",
    "    for j in range(column):\n",
    "        matrix[i][j] = random.randint(0,9)\n",
    "        matrixTranspose[j][i] = matrix[i][j]\n",
    "        \n",
    "print(matrix)\n",
    "print(matrixTranspose)\n",
    "\n"
   ]
  },
  {
   "cell_type": "markdown",
   "id": "66840f60",
   "metadata": {},
   "source": [
    "## Converting a number written in digit to text."
   ]
  },
  {
   "cell_type": "code",
   "execution_count": null,
   "id": "d93bc4fc",
   "metadata": {},
   "outputs": [],
   "source": [
    "units = [\"\",\"one\",\"two\",\"three\",\"four\",\"five\",\"six\",\"seven\",\"eight\",\"nine\"]\n",
    "tens = [\"\",\"ten\",\"twenty\",\"thirty\",\"forty\",\"fivety\",\"sixty\",\"seventy\",\"eighty\",\"ninety\"]\n",
    "hundreds = [\"\",\"a hundred\",\"two hundred\",\"three hundred\",\"four hundred\",\"five hundred\",\"six hundred\",\"seven hundred\",\"eight hundred\",\"nine hundred\"]\n",
    "thousands = [\"\",\"a thousand\",\"two thousand\",\"three thousand\",\"four thousand\",\"five thousand\",\"six thousand\",\"seven thousand\",\"eight thousand\",\"nine thousand\"]\n",
    "\n",
    "number = int(input(\"Please enter a 4-digit number: \"))\n",
    "\n",
    "numberStr = str(number)\n",
    "print(numberStr)\n",
    "\n",
    "print(thousands[int(numberStr[0])], hundreds[int(numberStr[1])], tens[int(numberStr[2])], units[int(numberStr[3])])"
   ]
  },
  {
   "cell_type": "markdown",
   "id": "3ea22c2f",
   "metadata": {},
   "source": [
    "## Finding palindrome numbers"
   ]
  },
  {
   "cell_type": "code",
   "execution_count": null,
   "id": "21399303",
   "metadata": {},
   "outputs": [],
   "source": [
    "for i in range(1000,10000):\n",
    "    numStr = str(i)\n",
    "    numStrReverse = numStr[::-1]\n",
    "    if (numStrReverse == numStr):\n",
    "        print(i)"
   ]
  },
  {
   "cell_type": "markdown",
   "id": "5d94649c",
   "metadata": {},
   "source": [
    "## Finding the number of words in a sentence"
   ]
  },
  {
   "cell_type": "code",
   "execution_count": 2,
   "id": "384a19b5",
   "metadata": {},
   "outputs": [
    {
     "name": "stdout",
     "output_type": "stream",
     "text": [
      "Please enter a sentence: Rümeysa Sakaoğlu\n",
      "Word Count: 2\n",
      "Number of letters: 15\n"
     ]
    }
   ],
   "source": [
    "sentence = input(\"Please enter a sentence: \")\n",
    "\n",
    "wordCounter = 0\n",
    "\n",
    "for i in sentence:\n",
    "    if i == \" \":\n",
    "        wordCounter += 1\n",
    "        \n",
    "print(\"Word Count:\",wordCounter + 1)\n",
    "print(\"Number of letters:\",len(sentence) - wordCounter)"
   ]
  },
  {
   "cell_type": "code",
   "execution_count": null,
   "id": "90c198e7",
   "metadata": {},
   "outputs": [],
   "source": []
  }
 ],
 "metadata": {
  "kernelspec": {
   "display_name": "Python 3",
   "language": "python",
   "name": "python3"
  },
  "language_info": {
   "codemirror_mode": {
    "name": "ipython",
    "version": 3
   },
   "file_extension": ".py",
   "mimetype": "text/x-python",
   "name": "python",
   "nbconvert_exporter": "python",
   "pygments_lexer": "ipython3",
   "version": "3.8.8"
  }
 },
 "nbformat": 4,
 "nbformat_minor": 5
}
